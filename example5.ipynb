{
 "cells": [
  {
   "cell_type": "markdown",
   "metadata": {},
   "source": [
    "# Objective"
   ]
  },
  {
   "cell_type": "code",
   "execution_count": 1,
   "metadata": {},
   "outputs": [],
   "source": [
    "%load_ext autoreload\n",
    "%autoreload 2"
   ]
  },
  {
   "cell_type": "code",
   "execution_count": 2,
   "metadata": {},
   "outputs": [],
   "source": [
    "import matplotlib.pyplot as plt\n",
    "import pandas as pd\n",
    "from pathlib import Path\n",
    "import subprocess\n",
    "import sys"
   ]
  },
  {
   "cell_type": "code",
   "execution_count": 11,
   "metadata": {},
   "outputs": [],
   "source": [
    "from src.variables import energyplus_install_dir\n",
    "from src.parsing import parse_energyplus_datetime_string, print_subprocess_results"
   ]
  },
  {
   "cell_type": "code",
   "execution_count": 4,
   "metadata": {},
   "outputs": [],
   "source": [
    "# insert the repo build tree or install path into the search Path, then import the EnergyPlus API\n",
    "sys.path.insert(0, str(energyplus_install_dir))\n",
    "from pyenergyplus.api import EnergyPlusAPI"
   ]
  },
  {
   "cell_type": "code",
   "execution_count": 16,
   "metadata": {},
   "outputs": [],
   "source": [
    "idf_file_relative = Path(\"example5/PythonPluginWindowShadeControl.idf\")\n",
    "weather_file_realtive = Path(\"./weatherfiles/USA_IL_Chicago-OHare.Intl.AP.725300_TMY3.epw\")\n",
    "output_relative_directory='./example5/sim'"
   ]
  },
  {
   "cell_type": "code",
   "execution_count": 19,
   "metadata": {},
   "outputs": [],
   "source": [
    "result = subprocess.run([f\"{energyplus_install_dir}/energyplus\", \"--readvars\",\n",
    "                         \"--output-directory\", f\"{output_relative_directory}\",\n",
    "                         \"--weather\", f\"{weather_file_realtive}\",\n",
    "                         f\"{idf_file_relative}\"\n",
    "                        ],\n",
    "                        capture_output=True\n",
    "                       )"
   ]
  },
  {
   "cell_type": "code",
   "execution_count": 20,
   "metadata": {},
   "outputs": [
    {
     "name": "stdout",
     "output_type": "stream",
     "text": [
      "---ARGS---\n",
      " ['/Applications/EnergyPlus-22-1-0/energyplus', '--readvars', '--output-directory', './example5/sim', '--weather', 'weatherfiles/USA_IL_Chicago-OHare.Intl.AP.725300_TMY3.epw', 'example5/PythonPluginWindowShadeControl.idf']\n",
      "---RETURNCODE---\n",
      " 0 (SUCCESS)\n",
      "---STDOUT---\n",
      " EnergyPlus Starting\n",
      "EnergyPlus, Version 22.1.0-ed759b17ee, YMD=2022.06.19 23:26\n",
      "Adjusting Air System Sizing\n",
      "Adjusting Standard 62.1 Ventilation Sizing\n",
      "Initializing Simulation\n",
      "Reporting Surfaces\n",
      "Beginning Primary Simulation\n",
      "Initializing New Environment Parameters\n",
      "Warming up {1}\n",
      "Warming up {2}\n",
      "Warming up {3}\n",
      "Warming up {4}\n",
      "Warming up {5}\n",
      "Warming up {6}\n",
      "Starting Simulation at 01/21 for CHICAGO_IL_USA ANNUAL HEATING 99% DESIGN CONDITIONS DB\n",
      "Initializing New Environment Parameters\n",
      "Warming up {1}\n",
      "Warming up {2}\n",
      "Warming up {3}\n",
      "Warming up {4}\n",
      "Warming up {5}\n",
      "Warming up {6}\n",
      "Starting Simulation at 07/21 for CHICAGO_IL_USA ANNUAL COOLING 1% DESIGN CONDITIONS DB/MCWB\n",
      "Writing tabular output file results using HTML format.\n",
      " ReadVarsESO program starting.\n",
      " ReadVars Run Time=00hr 00min  0.04sec\n",
      " ReadVarsESO program completed successfully.\n",
      " ReadVarsESO program starting.\n",
      " ReadVars Run Time=00hr 00min  0.02sec\n",
      " ReadVarsESO program completed successfully.\n",
      "EnergyPlus Run Time=00hr 00min  2.20sec\n",
      "   RANDOM VALUES\n",
      "0             14\n",
      "1             16\n",
      "2             11\n",
      "3             14\n",
      "4             14\n",
      "   RANDOM VALUES\n",
      "0             13\n",
      "1             20\n",
      "2             16\n",
      "3             20\n",
      "4             23\n",
      "   RANDOM VALUES\n",
      "0             24\n",
      "1             20\n",
      "2             14\n",
      "3             20\n",
      "4             24\n",
      "   RANDOM VALUES\n",
      "0             12\n",
      "1             12\n",
      "2             18\n",
      "3             11\n",
      "4             14\n",
      "   RANDOM VALUES\n",
      "0             22\n",
      "1             23\n",
      "2             22\n",
      "3             20\n",
      "4             19\n",
      "   RANDOM VALUES\n",
      "0             18\n",
      "1             22\n",
      "2             17\n",
      "3             23\n",
      "4             17\n",
      "   RANDOM VALUES\n",
      "0             23\n",
      "1             22\n",
      "2             23\n",
      "3             22\n",
      "4             23\n",
      "   RANDOM VALUES\n",
      "0             24\n",
      "1             17\n",
      "2             16\n",
      "3             11\n",
      "4             24\n",
      "   RANDOM VALUES\n",
      "0             12\n",
      "1             13\n",
      "2             14\n",
      "3             11\n",
      "4             19\n",
      "   RANDOM VALUES\n",
      "0             10\n",
      "1             15\n",
      "2             19\n",
      "3             14\n",
      "4             13\n",
      "   RANDOM VALUES\n",
      "0             15\n",
      "1             15\n",
      "2             11\n",
      "3             15\n",
      "4             19\n",
      "   RANDOM VALUES\n",
      "0             12\n",
      "1             24\n",
      "2             18\n",
      "3             11\n",
      "4             19\n",
      "   RANDOM VALUES\n",
      "0             11\n",
      "1             10\n",
      "2             15\n",
      "3             21\n",
      "4             10\n",
      "   RANDOM VALUES\n",
      "0             23\n",
      "1             11\n",
      "2             23\n",
      "3             13\n",
      "4             21\n",
      "\n",
      "---STDERR---\n",
      " EnergyPlus Completed Successfully.\n",
      "\n"
     ]
    }
   ],
   "source": [
    "print_subprocess_results(result)"
   ]
  },
  {
   "cell_type": "code",
   "execution_count": null,
   "metadata": {},
   "outputs": [],
   "source": []
  }
 ],
 "metadata": {
  "kernelspec": {
   "display_name": "Python [conda env:esim]",
   "language": "python",
   "name": "conda-env-esim-py"
  },
  "language_info": {
   "codemirror_mode": {
    "name": "ipython",
    "version": 3
   },
   "file_extension": ".py",
   "mimetype": "text/x-python",
   "name": "python",
   "nbconvert_exporter": "python",
   "pygments_lexer": "ipython3",
   "version": "3.8.13"
  }
 },
 "nbformat": 4,
 "nbformat_minor": 4
}
