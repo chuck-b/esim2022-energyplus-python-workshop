{
 "cells": [
  {
   "cell_type": "markdown",
   "metadata": {},
   "source": [
    "# Objective"
   ]
  },
  {
   "cell_type": "code",
   "execution_count": 1,
   "metadata": {},
   "outputs": [],
   "source": [
    "%load_ext autoreload\n",
    "%autoreload 2"
   ]
  },
  {
   "cell_type": "code",
   "execution_count": 2,
   "metadata": {},
   "outputs": [],
   "source": [
    "import matplotlib.pyplot as plt\n",
    "import pandas as pd\n",
    "from pathlib import Path\n",
    "import subprocess\n",
    "import sys"
   ]
  },
  {
   "cell_type": "code",
   "execution_count": 3,
   "metadata": {},
   "outputs": [],
   "source": [
    "from src.variables import energyplus_install_dir"
   ]
  },
  {
   "cell_type": "code",
   "execution_count": 4,
   "metadata": {},
   "outputs": [],
   "source": [
    "# insert the repo build tree or install path into the search Path, then import the EnergyPlus API\n",
    "sys.path.insert(0, str(energyplus_install_dir))\n",
    "from pyenergyplus.api import EnergyPlusAPI"
   ]
  },
  {
   "cell_type": "code",
   "execution_count": 5,
   "metadata": {},
   "outputs": [],
   "source": [
    "import pyenergyplus"
   ]
  },
  {
   "cell_type": "code",
   "execution_count": 6,
   "metadata": {},
   "outputs": [
    {
     "data": {
      "text/plain": [
       "'0.2'"
      ]
     },
     "execution_count": 6,
     "metadata": {},
     "output_type": "execute_result"
    }
   ],
   "source": [
    "pyenergyplus.api.EnergyPlusAPI.api_version()"
   ]
  },
  {
   "cell_type": "code",
   "execution_count": 9,
   "metadata": {},
   "outputs": [],
   "source": [
    "idf_file_relative = Path(\"example4/1ZoneUncontrolled.idf\")\n",
    "weather_file_realtive = Path(\"./weatherfiles/USA_IL_Chicago-OHare.Intl.AP.725300_TMY3.epw\")\n",
    "output_relative_directory='./example4/sim'"
   ]
  },
  {
   "cell_type": "code",
   "execution_count": 8,
   "metadata": {},
   "outputs": [],
   "source": [
    "def my_function(state):\n",
    "    \n",
    "    if api.exchange.api_data_fully_ready(state): #Necessary condition\n",
    "        if api.exchange.warmup_flag(state) == 0:\n",
    "            To_handle = api.exchange.get_variable_handle(state, \"Site Outdoor Air Drybulb Temperature\", \"Environment\")\n",
    "            \n",
    "            # \"Zone Thermostat Cooling Setpoint Temperature\", zone_name)\n",
    "\n",
    "            To = api.exchange.get_variable_value(state, To_handle)\n",
    "            Ti = api.exchange.get_variable_value(state, Ti_handle)\n",
    "\n",
    "            return (To, Ti)"
   ]
  },
  {
   "cell_type": "code",
   "execution_count": null,
   "metadata": {},
   "outputs": [],
   "source": [
    "state = api.state_manager.new_state() #Necessary condition\n",
    "api.state_manager.reset_state(state)\n",
    "api.runtime.callback_begin_zone_timestep_after_init_heat_balance(state, my_function)\n",
    "\n",
    "api.runtime.run_energyplus(state,\n",
    "    [\n",
    "        '-d', '/Users/.../Desktop/ReOrg/EPlus_Files',\n",
    "        '-w', '/Users/.../Desktop/ReOrg/EPlus_Files/Weather_File_SYR.epw',\n",
    "        'C:/Users/.../Desktop/ReOrg/EPlus_Files/Heating_design_new.idf'\n",
    "    ]\n",
    ")"
   ]
  }
 ],
 "metadata": {
  "kernelspec": {
   "display_name": "Python [conda env:esim]",
   "language": "python",
   "name": "conda-env-esim-py"
  },
  "language_info": {
   "codemirror_mode": {
    "name": "ipython",
    "version": 3
   },
   "file_extension": ".py",
   "mimetype": "text/x-python",
   "name": "python",
   "nbconvert_exporter": "python",
   "pygments_lexer": "ipython3",
   "version": "3.8.13"
  }
 },
 "nbformat": 4,
 "nbformat_minor": 4
}
