{
 "cells": [
  {
   "cell_type": "markdown",
   "metadata": {},
   "source": [
    "# Objective \n",
    "* "
   ]
  },
  {
   "cell_type": "code",
   "execution_count": 1,
   "metadata": {},
   "outputs": [],
   "source": [
    "%load_ext autoreload\n",
    "%autoreload 2"
   ]
  },
  {
   "cell_type": "code",
   "execution_count": 3,
   "metadata": {},
   "outputs": [],
   "source": [
    "import matplotlib.pyplot as plt\n",
    "import pandas as pd\n",
    "from pathlib import Path\n",
    "import subprocess"
   ]
  },
  {
   "cell_type": "code",
   "execution_count": 4,
   "metadata": {},
   "outputs": [],
   "source": [
    "from src.variables import energyplus_install_dir\n",
    "from src.parsing import parse_energyplus_datetime_string, print_subprocess_results"
   ]
  },
  {
   "cell_type": "code",
   "execution_count": 5,
   "metadata": {},
   "outputs": [],
   "source": [
    "idf_file_relative = Path(\"example2/PythonPluginCustomSchedule.idf\")\n",
    "weather_file_realtive = Path(\"./weatherfiles/USA_IL_Chicago-OHare.Intl.AP.725300_TMY3.epw\")\n",
    "output_relative_directory='./example2/sim'"
   ]
  },
  {
   "cell_type": "code",
   "execution_count": 6,
   "metadata": {},
   "outputs": [],
   "source": [
    "result = subprocess.run([f\"{energyplus_install_dir}/energyplus\", \"--readvars\",\n",
    "                         \"--output-directory\", f\"{output_relative_directory}\",\n",
    "                         \"--weather\", f\"{weather_file_realtive}\",\n",
    "                         f\"{idf_file_relative}\"\n",
    "                        ],\n",
    "                        capture_output=True\n",
    "                       )"
   ]
  },
  {
   "cell_type": "code",
   "execution_count": 7,
   "metadata": {},
   "outputs": [
    {
     "name": "stdout",
     "output_type": "stream",
     "text": [
      "---ARGS---\n",
      " ['/Applications/EnergyPlus-22-1-0/energyplus', '--readvars', '--output-directory', './example2/sim', '--weather', 'weatherfiles/USA_IL_Chicago-OHare.Intl.AP.725300_TMY3.epw', 'example2/PythonPluginCustomSchedule.idf']\n",
      "---RETURNCODE---\n",
      " 0 (SUCCESS)\n",
      "---STDOUT---\n",
      " EnergyPlus Starting\n",
      "EnergyPlus, Version 22.1.0-ed759b17ee, YMD=2022.06.14 20:56\n",
      "Initializing Response Factors\n",
      "Calculating CTFs for \"INTERIORFURNISHINGS\"\n",
      "Calculating CTFs for \"INT-FLOOR-TOPSIDE\"\n",
      "Calculating CTFs for \"ROOFS\"\n",
      "Calculating CTFs for \"ROOFS\"\n",
      "Calculating CTFs for \"INT-WALLS\"\n",
      "Calculating CTFs for \"EXT-WALLS\"\n",
      "Calculating CTFs for \"EXT-SLAB\"\n",
      "Calculating CTFs for \"EXPOSED-FLOOR\"\n",
      "Initializing Window Optical Properties\n",
      "Initializing Solar Calculations\n",
      "Allocate Solar Module Arrays\n",
      "Initializing Zone and Enclosure Report Variables\n",
      "Initializing Surface (Shading) Report Variables\n",
      "Determining Shadowing Combinations\n",
      "Computing Window Shade Absorption Factors\n",
      "Proceeding with Initializing Solar Calculations\n",
      "Initializing Surfaces\n",
      "Initializing Outdoor environment for Surfaces\n",
      "Setting up Surface Reporting Variables\n",
      "Initializing Temperature and Flux Histories\n",
      "Initializing Window Shading\n",
      "Computing Interior Absorption Factors\n",
      "Computing Interior Diffuse Solar Absorption Factors\n",
      "Initializing Solar Heat Gains\n",
      "Initializing Internal Heat Gains\n",
      "Initializing Interior Solar Distribution\n",
      "Initializing Interior Convection Coefficients\n",
      "Gathering Information for Predefined Reporting\n",
      "Completed Initializing Surface Heat Balance\n",
      "Calculate Outside Surface Heat Balance\n",
      "Calculate Inside Surface Heat Balance\n",
      "Calculate Air Heat Balance\n",
      "Initializing HVAC\n",
      "Warming up\n",
      "Warming up\n",
      "Warming up\n",
      "Warming up\n",
      "Warming up\n",
      "Warming up\n",
      "Performing Zone Sizing Simulation\n",
      "...for Sizing Period: #1 CHICAGO ANN HTG 99.6% CONDNS DB\n",
      "Warming up\n",
      "Warming up\n",
      "Warming up\n",
      "Warming up\n",
      "Warming up\n",
      "Warming up\n",
      "Performing Zone Sizing Simulation\n",
      "...for Sizing Period: #2 CHICAGO ANN CLG .4% CONDNS DB=>MWB\n",
      "Calculating System sizing\n",
      "...for Sizing Period: #1 CHICAGO ANN HTG 99.6% CONDNS DB\n",
      "Calculating System sizing\n",
      "...for Sizing Period: #2 CHICAGO ANN CLG .4% CONDNS DB=>MWB\n",
      "Adjusting Air System Sizing\n",
      "Adjusting Standard 62.1 Ventilation Sizing\n",
      "Initializing Simulation\n",
      "Reporting Surfaces\n",
      "Beginning Primary Simulation\n",
      "Initializing New Environment Parameters\n",
      "Warming up {1}\n",
      "Warming up {2}\n",
      "Warming up {3}\n",
      "Warming up {4}\n",
      "Warming up {5}\n",
      "Warming up {6}\n",
      "Warming up {7}\n",
      "Starting Simulation at 01/21 for CHICAGO ANN HTG 99.6% CONDNS DB\n",
      "Initializing New Environment Parameters\n",
      "Warming up {1}\n",
      "Warming up {2}\n",
      "Warming up {3}\n",
      "Warming up {4}\n",
      "Warming up {5}\n",
      "Warming up {6}\n",
      "Starting Simulation at 07/21 for CHICAGO ANN CLG .4% CONDNS DB=>MWB\n",
      "Writing tabular output file results using HTML format.\n",
      " ReadVarsESO program starting.\n",
      " ReadVars Run Time=00hr 00min  0.03sec\n",
      " ReadVarsESO program completed successfully.\n",
      " ReadVarsESO program starting.\n",
      " ReadVars Run Time=00hr 00min  0.02sec\n",
      " ReadVarsESO program completed successfully.\n",
      "EnergyPlus Run Time=00hr 00min  2.18sec\n",
      "\n",
      "---STDERR---\n",
      " EnergyPlus Completed Successfully.\n",
      "\n"
     ]
    }
   ],
   "source": [
    "print_subprocess_results(result)"
   ]
  },
  {
   "cell_type": "markdown",
   "metadata": {},
   "source": [
    "# review the values"
   ]
  },
  {
   "cell_type": "code",
   "execution_count": 8,
   "metadata": {},
   "outputs": [],
   "source": [
    "df=pd.read_csv(\"example2/sim/eplusout.csv\", \n",
    "               parse_dates=[0],\n",
    "               index_col=[0],\n",
    "               date_parser=parse_energyplus_datetime_string \n",
    "              )"
   ]
  },
  {
   "cell_type": "code",
   "execution_count": 13,
   "metadata": {},
   "outputs": [],
   "source": [
    "df_trim = df['2021-07-01':'2021-08-01']"
   ]
  },
  {
   "cell_type": "code",
   "execution_count": 15,
   "metadata": {},
   "outputs": [
    {
     "data": {
      "text/plain": [
       "Text(0, 0.5, 'Air temperature (${^o}C$)')"
      ]
     },
     "execution_count": 15,
     "metadata": {},
     "output_type": "execute_result"
    },
    {
     "data": {
      "image/png": "[encoded data removed]",
      "text/plain": [
       "<Figure size 1152x432 with 1 Axes>"
      ]
     },
     "metadata": {
      "needs_background": "light"
     },
     "output_type": "display_data"
    }
   ],
   "source": [
    "fig, ax = plt.subplots(figsize=(16,6))\n",
    "ax.plot(df_trim['HTGSETP_SCH:Schedule Value [](TimeStep)'],  \n",
    "        color='red',\n",
    "        drawstyle='steps-post',\n",
    "        linewidth=0.75\n",
    "       )\n",
    "\n",
    "ax.plot(df_trim['Averaged Building Temperature:PythonPlugin:OutputVariable [C](TimeStep)'],  \n",
    "        color='grey',\n",
    "        drawstyle='steps-post',\n",
    "        linewidth=0.75)\n",
    "\n",
    "ax.plot(df_trim['CLGSETP_SCH:Schedule Value [](TimeStep)'],  \n",
    "        color='blue',\n",
    "        drawstyle='steps-post',\n",
    "        linewidth=0.75\n",
    "       )\n",
    "ax.set_xlabel('Date')\n",
    "ax.set_ylabel('Air temperature (${^o}C$)')  "
   ]
  },
  {
   "cell_type": "code",
   "execution_count": null,
   "metadata": {},
   "outputs": [],
   "source": []
  },
  {
   "cell_type": "code",
   "execution_count": null,
   "metadata": {},
   "outputs": [],
   "source": []
  }
 ],
 "metadata": {
  "kernelspec": {
   "display_name": "Python [conda env:esim]",
   "language": "python",
   "name": "conda-env-esim-py"
  },
  "language_info": {
   "codemirror_mode": {
    "name": "ipython",
    "version": 3
   },
   "file_extension": ".py",
   "mimetype": "text/x-python",
   "name": "python",
   "nbconvert_exporter": "python",
   "pygments_lexer": "ipython3",
   "version": "3.8.13"
  }
 },
 "nbformat": 4,
 "nbformat_minor": 4
}
